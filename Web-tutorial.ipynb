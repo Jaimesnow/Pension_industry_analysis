{
 "cells": [
  {
   "cell_type": "markdown",
   "metadata": {},
   "source": [
    "# Web从0到1实战\n",
    "\n",
    "本项目旨在从一个小白的视角，从0到1学习web前端开发。  \n",
    "\n",
    "## 课程大纲：    \n",
    "1. 前端工具的使用  \n",
    ">  https://github.com/qianguyihao/Web/blob/master/00-%E5%89%8D%E7%AB%AF%E5%B7%A5%E5%85%B7/01-VS%20Code%E7%9A%84%E4%BD%BF%E7%94%A8.md  \n",
    "\n",
    "2. 基础HTML页面搭建与CSS样式设计\n",
    "`example`  \n",
    "\n",
    "\n",
    "***  \n"
   ]
  },
  {
   "cell_type": "markdown",
   "metadata": {},
   "source": [
    "## 前端工具的使用  \n",
    "### vscode的使用  \n",
    "这里是一个链接:[你可以在这里随时查询Markdown语法](https://markdown.com.cn/basic-syntax/links.html)   \n",
    "\n",
    "![这是图片](img/模式技术创新.png \"模式技术创新\")   \n",
    "\n",
    "**这里正式开始vscode教程：**  \n",
    "#### vscode实用快捷键（Win）：\n",
    "1. Ctrl + \\: 拆分为多个编辑器  \n",
    "2. Ctrl + S: 保存  \n",
    "3. Ctrl + N：新建文件  \n",
    "4. Ctrl + W：关闭当前文件  \n",
    "5. Ctrl + O: 打开文件\n",
    "6. Ctrl + Pagedown/up: 切换多个文件  \n",
    "7. 方向键： 在单个字符之间移动光标\n",
    "8. Ctrl + 方向键： 在单词之间移动光标  \n",
    "9. Ctrl + Enter： 在当前行的下方新增一行，然后跳至该行  \n",
    "10. Ctrl + Shift + Enter： 在当前行的上方新增一行，然后跳至该行  \n",
    "11. Alt + 上/下: 将代码向上/下移动  \n",
    "12. Alt + Shift + 上/下: 将代码向上/下复制一行\n",
    "13. Ctrl + Backspace：删除光标钱的一个单词  \n",
    "14. Alt + 鼠标点击任何位置： 出现多个光标\n",
    "15. Ctrl + /： 添加单行注释\n",
    "16. Ctrl + Shift + P： 启动命令面板\n",
    "17. 新建一个html文件，输入！然后按下enter即可生成html骨架\n",
    "18. 三击鼠标或单击行号选中当前行\n",
    "\n",
    "## Web静态页面开发\n"
   ]
  }
 ],
 "metadata": {
  "language_info": {
   "name": "python"
  }
 },
 "nbformat": 4,
 "nbformat_minor": 2
}
